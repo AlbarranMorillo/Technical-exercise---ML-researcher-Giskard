{
  "nbformat": 4,
  "nbformat_minor": 0,
  "metadata": {
    "colab": {
      "provenance": []
    },
    "kernelspec": {
      "name": "python3",
      "display_name": "Python 3"
    },
    "language_info": {
      "name": "python"
    }
  },
  "cells": [
    {
      "cell_type": "code",
      "execution_count": null,
      "metadata": {
        "colab": {
          "base_uri": "https://localhost:8080/"
        },
        "id": "MTozISskdJlo",
        "outputId": "79997bcb-34aa-4c8b-9f41-b43820978dbb"
      },
      "outputs": [
        {
          "output_type": "stream",
          "name": "stdout",
          "text": [
            "Enter the target sentence: vv\n",
            "Enter a candidate sentence: vv\n",
            "| Sentence Type        | Sentence                                           | Positive   | Neutral    | Negative   |\n",
            "| Target Sentence      | vv                                                 | 0.43669 | 0.26179 | 0.30153 |\n",
            "No matching sentence found\n"
          ]
        }
      ],
      "source": [
        "import torch\n",
        "from transformers import AutoTokenizer, AutoModelForSequenceClassification\n",
        "import numpy as np\n",
        "import nltk\n",
        "from nltk.metrics.distance import edit_distance\n",
        "\n",
        "# Load the pre-trained sentiment analysis model and tokenizer\n",
        "MODEL_NAME = \"lxyuan/distilbert-base-multilingual-cased-sentiments-student\"\n",
        "tokenizer = AutoTokenizer.from_pretrained(MODEL_NAME)\n",
        "model = AutoModelForSequenceClassification.from_pretrained(MODEL_NAME)\n",
        "\n",
        "# Function to get sentiment scores for a given sentence\n",
        "def get_sentiment_scores(sentence):\n",
        "    \"\"\"\n",
        "    Computes sentiment scores for a given sentence using the pre-trained model.\n",
        "    Returns a dictionary with positive, neutral, and negative scores.\n",
        "    \"\"\"\n",
        "    inputs = tokenizer(sentence, return_tensors=\"pt\", truncation=True, padding=True)\n",
        "    with torch.no_grad():\n",
        "        outputs = model(**inputs)\n",
        "    scores = torch.nn.functional.softmax(outputs.logits, dim=-1).cpu().numpy()[0]\n",
        "    return {\n",
        "        \"positive\": scores[0],\n",
        "        \"neutral\": scores[1],\n",
        "        \"negative\": scores[2]\n",
        "    }\n",
        "\n",
        "# Function to find a matching sentence with similar sentiment scores\n",
        "def find_matching_sentence(target_sentence, decimal_places=5):\n",
        "    \"\"\"\n",
        "    Compares two user-provided sentences: a target sentence and a candidate sentence.\n",
        "    Ensures that the candidate sentence has sentiment scores matching the target sentence\n",
        "    when rounded to the specified decimal places.\n",
        "    Additionally, enforces a minimum Levenshtein distance of 30 and requires the candidate\n",
        "    sentence to be between 40 and 60 characters in length.\n",
        "    If no match is found, the function will return the target sentence scores.\n",
        "    \"\"\"\n",
        "    target_scores = get_sentiment_scores(target_sentence)\n",
        "    rounded_target_scores = {k: round(v, decimal_places) for k, v in target_scores.items()}\n",
        "\n",
        "    found_sentence = None\n",
        "    matched_scores = None\n",
        "    for candidate_sentence in get_user_provided_sentence():\n",
        "\n",
        "        # Ensure sentence length constraint (40-60 characters)\n",
        "        if not (40 <= len(candidate_sentence) <= 60):\n",
        "            continue\n",
        "\n",
        "        # Ensure minimum Levenshtein distance of 30\n",
        "        if edit_distance(target_sentence, candidate_sentence) < 30:\n",
        "            continue\n",
        "\n",
        "        # Compute sentiment scores for the candidate sentence\n",
        "        candidate_scores = get_sentiment_scores(candidate_sentence)\n",
        "        rounded_candidate_scores = {k: round(v, decimal_places) for k, v in candidate_scores.items()}\n",
        "\n",
        "        # Check if the rounded sentiment scores match\n",
        "        if rounded_candidate_scores == rounded_target_scores:\n",
        "            found_sentence = candidate_sentence\n",
        "            matched_scores = candidate_scores\n",
        "            break\n",
        "\n",
        "    return found_sentence, target_scores, matched_scores\n",
        "\n",
        "# Function to get a user-provided candidate sentence\n",
        "def get_user_provided_sentence():\n",
        "    \"\"\"\n",
        "    Asks the user to input a sentence for comparison.\n",
        "    \"\"\"\n",
        "    return [input(\"Enter a candidate sentence: \")]\n",
        "\n",
        "# Example usage\n",
        "target_sentence = input(\"Enter the target sentence: \")\n",
        "matching_sentence, target_scores, matched_scores = find_matching_sentence(target_sentence, decimal_places=5)\n",
        "\n",
        "# Print results in a single-line table format\n",
        "print(f\"| {'Sentence Type':<20} | {'Sentence':<50} | {'Positive':<10} | {'Neutral':<10} | {'Negative':<10} |\")\n",
        "print(f\"| {'Target Sentence':<20} | {target_sentence:<50} | {target_scores['positive']:.5f} | {target_scores['neutral']:.5f} | {target_scores['negative']:.5f} |\")\n",
        "if matching_sentence:\n",
        "    print(f\"| {'Matching Sentence':<20} | {matching_sentence:<50} | {matched_scores['positive']:.5f} | {matched_scores['neutral']:.5f} | {matched_scores['negative']:.5f} |\")\n",
        "else:\n",
        "    print(\"No matching sentence found\")"
      ]
    }
  ]
}